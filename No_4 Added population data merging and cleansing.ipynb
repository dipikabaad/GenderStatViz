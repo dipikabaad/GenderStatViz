{
 "cells": [
  {
   "cell_type": "code",
   "execution_count": 91,
   "metadata": {},
   "outputs": [],
   "source": [
    "import pandas as pd\n",
    "import numpy as np\n",
    "import os\n",
    "import glob"
   ]
  },
  {
   "cell_type": "code",
   "execution_count": 92,
   "metadata": {},
   "outputs": [],
   "source": [
    "total = pd.read_csv('API_SP.POP.TOTL.FE.IN_DS2_en_csv_v2.csv', skiprows = 4)\n",
    "total = total.drop(columns = ['Indicator Name', 'Country Code', 'Indicator Code', '2017', 'Unnamed: 62'])\n",
    "total.set_index('Country Name', inplace = True)\n",
    "total.dropna(how = 'any', inplace = True)\n",
    "FE = total\n",
    "total = pd.read_csv('API_SP.POP.TOTL.MA.IN_DS2_en_csv_v2.csv', skiprows = 4)\n",
    "total = total.drop(columns = ['Indicator Name', 'Country Code', 'Indicator Code', '2017', 'Unnamed: 62'])\n",
    "total.set_index('Country Name', inplace = True)\n",
    "total.dropna(how = 'any', inplace = True)\n",
    "MA = total"
   ]
  },
  {
   "cell_type": "code",
   "execution_count": 112,
   "metadata": {},
   "outputs": [],
   "source": [
    "# # # first loop all the files in the directory\n",
    "# directory_in_str = 'population'\n",
    "# directory = os.fsencode(directory_in_str)\n",
    "\n",
    "# for file in os.listdir(directory):\n",
    "#     filename = os.fsdecode(file)\n",
    "#     if filename.endswith(\".csv\"): \n",
    "#         df = pd.read_csv(filename, skiprows = 4)\n",
    "            \n",
    "            \n",
    "path ='population' # use your path\n",
    "allFiles = glob.glob(path + \"/*.csv\")\n",
    "all = pd.DataFrame()\n",
    "for file_ in allFiles:\n",
    "    filename = os.fsdecode(file_)\n",
    "#     print(filename)\n",
    "    df = pd.read_csv(file_, skiprows = 4)\n",
    "    df = df.drop(columns = ['Indicator Name', 'Country Code', 'Indicator Code', '2017', 'Unnamed: 62'])\n",
    "    df.set_index('Country Name', inplace = True)\n",
    "    df = df/100\n",
    "    if filename[27:29] == 'FE':\n",
    "        df = df * FE\n",
    "        df['Gender'] = 'F'\n",
    "    else:\n",
    "        df = df * MA\n",
    "        df['Gender'] = 'M'\n",
    "    \n",
    "    df['Age Group'] = filename[22:24] + '-' + filename[24:26]\n",
    "    \n",
    "    all = all.append(df)\n",
    "\n",
    "all\n",
    "all.dropna(how = 'any', inplace = True)\n",
    "# print(np.shape(all))\n",
    "all.to_csv('all.csv')\n"
   ]
  },
  {
   "cell_type": "code",
   "execution_count": null,
   "metadata": {},
   "outputs": [],
   "source": []
  }
 ],
 "metadata": {
  "kernelspec": {
   "display_name": "Python 3",
   "language": "python",
   "name": "python3"
  },
  "language_info": {
   "codemirror_mode": {
    "name": "ipython",
    "version": 3
   },
   "file_extension": ".py",
   "mimetype": "text/x-python",
   "name": "python",
   "nbconvert_exporter": "python",
   "pygments_lexer": "ipython3",
   "version": "3.6.3"
  }
 },
 "nbformat": 4,
 "nbformat_minor": 2
}
