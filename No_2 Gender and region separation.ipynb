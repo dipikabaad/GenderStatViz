{
 "cells": [
  {
   "cell_type": "code",
   "execution_count": 25,
   "metadata": {},
   "outputs": [
    {
     "name": "stderr",
     "output_type": "stream",
     "text": [
      "c:\\python36\\lib\\site-packages\\ipykernel_launcher.py:11: FutureWarning: set_value is deprecated and will be removed in a future release. Please use .at[] or .iat[] accessors instead\n",
      "  # This is added back by InteractiveShellApp.init_path()\n",
      "c:\\python36\\lib\\site-packages\\ipykernel_launcher.py:12: FutureWarning: set_value is deprecated and will be removed in a future release. Please use .at[] or .iat[] accessors instead\n",
      "  if sys.path[0] == '':\n",
      "c:\\python36\\lib\\site-packages\\ipykernel_launcher.py:17: FutureWarning: set_value is deprecated and will be removed in a future release. Please use .at[] or .iat[] accessors instead\n",
      "c:\\python36\\lib\\site-packages\\ipykernel_launcher.py:18: FutureWarning: set_value is deprecated and will be removed in a future release. Please use .at[] or .iat[] accessors instead\n",
      "c:\\python36\\lib\\site-packages\\ipykernel_launcher.py:23: FutureWarning: set_value is deprecated and will be removed in a future release. Please use .at[] or .iat[] accessors instead\n",
      "c:\\python36\\lib\\site-packages\\ipykernel_launcher.py:9: FutureWarning: set_value is deprecated and will be removed in a future release. Please use .at[] or .iat[] accessors instead\n",
      "  if __name__ == '__main__':\n",
      "c:\\python36\\lib\\site-packages\\ipykernel_launcher.py:14: FutureWarning: set_value is deprecated and will be removed in a future release. Please use .at[] or .iat[] accessors instead\n",
      "  \n",
      "c:\\python36\\lib\\site-packages\\ipykernel_launcher.py:15: FutureWarning: set_value is deprecated and will be removed in a future release. Please use .at[] or .iat[] accessors instead\n",
      "  from ipykernel import kernelapp as app\n"
     ]
    },
    {
     "data": {
      "text/plain": [
       "1128"
      ]
     },
     "execution_count": 25,
     "metadata": {},
     "output_type": "execute_result"
    }
   ],
   "source": [
    "import pandas as pd\n",
    "import numpy as np\n",
    "data = pd.read_csv('159 indicators for all the countries 2000 to 2016.csv')\n",
    "data = data.drop(columns = {'Country Code', 'Indicator Code','Unnamed: 0'})\n",
    "# data\n",
    "def uni_gender(data):\n",
    "    for index, row in data.iterrows():\n",
    "        if '  ' in row['Indicator Name']:\n",
    "            data.set_value(index, 'Indicator Name', row['Indicator Name'].replace('  ', ' '))\n",
    "        if ('female' in row['Indicator Name']) and ('male to' not in row['Indicator Name']):\n",
    "            data.set_value(index, 'Indicator Name', row['Indicator Name'].replace('female', '')) \n",
    "            data.set_value(index, 'Gender', 'F')\n",
    "        elif ('Female' in row['Indicator Name']) and ('male to' not in row['Indicator Name']):\n",
    "            data.set_value(index, 'Indicator Name', row['Indicator Name'].replace('Female', '')) \n",
    "            data.set_value(index, 'Gender', 'F')\n",
    "        elif ('male' in row['Indicator Name']) and ('male to' not in row['Indicator Name']):\n",
    "            data.set_value(index, 'Indicator Name', row['Indicator Name'].replace('male', '')) \n",
    "            data.set_value(index, 'Gender', 'M')\n",
    "        elif ('Male' in row['Indicator Name']) and ('male to' not in row['Indicator Name']):\n",
    "            data.set_value(index, 'Indicator Name', row['Indicator Name'].replace('Male', '')) \n",
    "            data.set_value(index, 'Gender', 'M')\n",
    "        else:\n",
    "            data.set_value(index, 'Gender', 'N')\n",
    "    return data \n",
    "data = uni_gender(data)\n"
   ]
  },
  {
   "cell_type": "code",
   "execution_count": 2,
   "metadata": {},
   "outputs": [],
   "source": [
    "# data_region = data[(data['Country Name'] == 'East Asia & Pacific') | \n",
    "# (data['Country Name'] == 'Europe & Central Asia') | (data['Country Name'] == 'Latin America & Caribbean') | \n",
    "# (data['Country Name'] == 'Middle East & North Africa') | (data['Country Name'] == 'South Asia') | \n",
    "# (data['Country Name'] == 'Sub-Saharan Africa') | (data)['Country Name'] == 'North America']\n",
    "# file_east_asia = pd.ExcelWriter('data region.xlsx')\n",
    "# data_region.to_excel(file_east_asia, sheet_name =  'total')\n",
    "# can be saved as xlsx, and to different sheets"
   ]
  },
  {
   "cell_type": "code",
   "execution_count": 3,
   "metadata": {},
   "outputs": [],
   "source": [
    "# East_Asia_Pacific.to_excel(file_east_asia, sheet_name = 'East Asia & Pacific')\n",
    "\n",
    "# file_east_asia.save()"
   ]
  },
  {
   "cell_type": "code",
   "execution_count": 4,
   "metadata": {},
   "outputs": [],
   "source": [
    "# data_main_countries = data[(data['Country Name'] == 'Russian Federation')| (data['Country Name'] == 'Canada')| (data['Country Name'] == 'United States')| (data['Country Name'] == 'China')| (data['Country Name'] == 'Brazil')| (data['Country Name'] == 'Australia')| (data['Country Name'] == 'India')| (data['Country Name'] == 'Euro area')| (data['Country Name'] == 'United Kingdom')]\n",
    "# data_main_countries.to_csv('data main countries.csv')"
   ]
  },
  {
   "cell_type": "code",
   "execution_count": 26,
   "metadata": {
    "scrolled": true
   },
   "outputs": [],
   "source": [
    "eap = data[(data['Country Name'] == 'East Asia & Pacific') | (data['Country Name'] == 'China') | \n",
    "           (data['Country Name'] == 'Japan') | (data['Country Name'] == 'Vietnam') |  \n",
    "           (data['Country Name'] == 'Korea, Dem. People\\'s Rep.') | (data['Country Name'] == 'Korea, Rep.') | \n",
    "           (data['Country Name'] == 'Philippines') | (data['Country Name'] == 'Australia') | \n",
    "           (data['Country Name'] == 'New Zealand') | (data['Country Name'] == 'Singapore')]\n",
    "eap.sort_values(by = 'Country Name')\n",
    "eap.to_csv('eap.csv') "
   ]
  },
  {
   "cell_type": "code",
   "execution_count": 27,
   "metadata": {},
   "outputs": [],
   "source": [
    "eca = data[(data['Country Name'] == 'Europe & Central Asia') | (data['Country Name'] == 'Austria') | \n",
    "           (data['Country Name'] == 'Albania') | (data['Country Name'] == 'Belgium') |  \n",
    "           (data['Country Name'] == 'Denmark') | (data['Country Name'] == 'Italy') | \n",
    "           (data['Country Name'] == 'Croatia') | (data['Country Name'] == 'France') | \n",
    "           (data['Country Name'] == 'Germany') | (data['Country Name'] == 'Greece') |\n",
    "           (data['Country Name'] == 'Iceland') | (data['Country Name'] == 'Luxembourg') | \n",
    "           (data['Country Name'] == 'Netherlands') | (data['Country Name'] == 'Sweden') | \n",
    "           (data['Country Name'] == 'Switzerland') | (data['Country Name'] == 'Ukraine') | \n",
    "           (data['Country Name'] == 'Turkey') | (data['Country Name'] == 'United Kingdom') |\n",
    "           (data['Country Name'] == 'Norway') | (data['Country Name'] == 'Finland') |  \n",
    "           (data['Country Name'] == 'Spain') | (data['Country Name'] == 'Poland') | \n",
    "           (data['Country Name'] == 'Portugal') | (data['Country Name'] == 'Romania') | \n",
    "           (data['Country Name'] == 'Russian Federation') | (data['Country Name'] == 'Czech Republic')]\n",
    "eca.sort_values(by = 'Country Name')\n",
    "eca.to_csv('eca.csv') "
   ]
  },
  {
   "cell_type": "code",
   "execution_count": 28,
   "metadata": {},
   "outputs": [],
   "source": [
    "lac = data[(data['Country Name'] == 'Latin America & Caribbean') | (data['Country Name'] == 'Argentina') | \n",
    "           (data['Country Name'] == 'Brazil') | (data['Country Name'] == 'Panama') |  \n",
    "           (data['Country Name'] == 'Colombia') | (data['Country Name'] == 'Cuba') | \n",
    "           (data['Country Name'] == 'Haiti') | (data['Country Name'] == 'Jamaica') | \n",
    "           (data['Country Name'] == 'Mexico') | (data['Country Name'] == 'Chile')]\n",
    "lac.sort_values(by = 'Country Name')\n",
    "lac.to_csv('lac.csv') "
   ]
  },
  {
   "cell_type": "code",
   "execution_count": 29,
   "metadata": {},
   "outputs": [],
   "source": [
    "mena = data[(data['Country Name'] == 'Middle East & North Africa') | (data['Country Name'] == 'United Arab Emirates') | \n",
    "           (data['Country Name'] == 'Egypt, Arab Rep.') | (data['Country Name'] == 'Iraq') |  \n",
    "           (data['Country Name'] == 'Iran, Islamic Rep.') | (data['Country Name'] == 'Israel') | \n",
    "           (data['Country Name'] == 'Saudi Arabia') | (data['Country Name'] == 'Lebanon') | \n",
    "           (data['Country Name'] == 'Syrian Arab Republic') | (data['Country Name'] == 'Morocco')]\n",
    "mena.sort_values(by = 'Country Name')\n",
    "mena.to_csv('mena.csv') "
   ]
  },
  {
   "cell_type": "code",
   "execution_count": 30,
   "metadata": {},
   "outputs": [],
   "source": [
    "sa = data[(data['Country Name'] == 'South Asia') | (data['Country Name'] == 'Afghanistan') | \n",
    "           (data['Country Name'] == 'Bangladesh') | (data['Country Name'] == 'Bhutan') |  \n",
    "           (data['Country Name'] == 'India') | (data['Country Name'] == 'Nepal') | \n",
    "           (data['Country Name'] == 'Maldives') | (data['Country Name'] == 'Pakistan') | \n",
    "           (data['Country Name'] == 'Sri Lanka')]\n",
    "sa.sort_values(by = 'Country Name')\n",
    "sa.to_csv('sa.csv') "
   ]
  },
  {
   "cell_type": "code",
   "execution_count": 31,
   "metadata": {},
   "outputs": [],
   "source": [
    "ssa = data[(data['Country Name'] == 'Sub-Saharan Africa') | (data['Country Name'] == 'Guinea-Bissau') | \n",
    "           (data['Country Name'] == 'Guinea') | (data['Country Name'] == 'Papua New Guinea') |  \n",
    "           (data['Country Name'] == 'South Sudan') | (data['Country Name'] == 'Sudan') | \n",
    "           (data['Country Name'] == 'Equatorial Guinea') | (data['Country Name'] == 'Nigeria') | \n",
    "           (data['Country Name'] == 'South Africa') | (data['Country Name'] == 'Central African Republic')]\n",
    "ssa.sort_values(by = 'Country Name')\n",
    "ssa.to_csv('ssa.csv') "
   ]
  },
  {
   "cell_type": "code",
   "execution_count": 32,
   "metadata": {},
   "outputs": [],
   "source": [
    "na = data[(data['Country Name'] == 'North America') | (data['Country Name'] == 'United States') | \n",
    "           (data['Country Name'] == 'Canada')]\n",
    "na.sort_values(by = 'Country Name')\n",
    "na.to_csv('na.csv') "
   ]
  }
 ],
 "metadata": {
  "kernelspec": {
   "display_name": "Python 3",
   "language": "python",
   "name": "python3"
  },
  "language_info": {
   "codemirror_mode": {
    "name": "ipython",
    "version": 3
   },
   "file_extension": ".py",
   "mimetype": "text/x-python",
   "name": "python",
   "nbconvert_exporter": "python",
   "pygments_lexer": "ipython3",
   "version": "3.6.3"
  }
 },
 "nbformat": 4,
 "nbformat_minor": 2
}
