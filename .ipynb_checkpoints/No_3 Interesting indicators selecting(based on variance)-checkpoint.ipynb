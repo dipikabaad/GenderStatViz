{
 "cells": [
  {
   "cell_type": "code",
   "execution_count": 3,
   "metadata": {},
   "outputs": [],
   "source": [
    "import numpy as np\n",
    "import pandas as pd\n",
    "import operator"
   ]
  },
  {
   "cell_type": "markdown",
   "metadata": {},
   "source": [
    "** for all the selected countries **"
   ]
  },
  {
   "cell_type": "code",
   "execution_count": 4,
   "metadata": {},
   "outputs": [
    {
     "name": "stdout",
     "output_type": "stream",
     "text": [
      "(1445, 23)\n",
      "(11829, 23)\n"
     ]
    }
   ],
   "source": [
    "eap = pd.read_csv('eap.csv')\n",
    "\n",
    "eca = pd.read_csv('eca.csv')\n",
    "\n",
    "na = pd.read_csv('na.csv')\n",
    "\n",
    "lac = pd.read_csv('lac.csv')\n",
    "\n",
    "mena = pd.read_csv('mena.csv')\n",
    "\n",
    "sa = pd.read_csv('sa.csv')\n",
    "\n",
    "ssa = pd.read_csv('ssa.csv')\n",
    "\n",
    "\n",
    "df = eap.append(eca).append(na).append(lac).append(mena).append(sa).append(ssa)\n",
    "print(np.shape(eap))\n",
    "print(np.shape(df))"
   ]
  },
  {
   "cell_type": "code",
   "execution_count": 5,
   "metadata": {},
   "outputs": [
    {
     "name": "stdout",
     "output_type": "stream",
     "text": [
      "in the whole world, the top interesting indicators are:\n",
      "Time required to start a business,  (days)\n",
      "Inflation, consumer prices (annual %)\n",
      "Cost of business start-up procedures,  (% of GNI per capita)\n",
      "Maternal mortality ratio (modeled estimate, per 100,000 live births)\n",
      "Health expenditure per capita, PPP (constant 2011 international $)\n",
      "GNI per capita, PPP (current international $)\n",
      "GNI per capita, Atlas method (current US$)\n",
      "GDP per capita (Current US$)\n",
      "Number of maternal deaths\n",
      "Children out of school, primary, \n",
      "Population ages 65 and above, \n",
      "Population ages 0-14, \n",
      "Labor force, \n",
      "Labor force, total\n",
      "Population ages 15-64, \n",
      "Population, \n",
      "Population ages 15-64, total\n",
      "Population, total\n",
      "GNI, Atlas method (current US$)\n",
      "GDP (current US$)\n",
      " \n"
     ]
    }
   ],
   "source": [
    "df['variance'] = df[['2000', '2001', '2002', '2003', '2004', '2005', '2006', '2007', \n",
    "                         '2008', '2009', '2010', '2011', '2012', '2013', '2014', '2015', '2016', '2017']].var(axis = 1)\n",
    "interesting = {}\n",
    "for group, frame in df.groupby(by = 'Indicator Name'):\n",
    "    interesting[group] = frame['variance'].max() - frame['variance'].min()\n",
    "sorted_x = sorted(interesting.items(), key=operator.itemgetter(1))\n",
    "top = sorted_x[-20:]\n",
    "print(\"in the whole world, the top interesting indicators are:\" )\n",
    "for item in top:\n",
    "    print(item[0])\n",
    "print(' ')"
   ]
  },
  {
   "cell_type": "markdown",
   "metadata": {},
   "source": [
    "**  for different countries: **"
   ]
  },
  {
   "cell_type": "code",
   "execution_count": 6,
   "metadata": {},
   "outputs": [],
   "source": [
    "eap = pd.read_csv('eap.csv')\n",
    "eap = eap[eap['Country Name'] != 'East Asia & Pacific']\n",
    "\n",
    "eca = pd.read_csv('eca.csv')\n",
    "eca = eca[eca['Country Name'] != 'Europe & Central Asia']\n",
    "\n",
    "na = pd.read_csv('na.csv')\n",
    "na = na[na['Country Name'] != 'North America']\n",
    "\n",
    "lac = pd.read_csv('lac.csv')\n",
    "lac = lac[lac['Country Name'] != 'Latin America & Caribbean']\n",
    "\n",
    "mena = pd.read_csv('mena.csv')\n",
    "mena = mena[mena['Country Name'] != 'Middle East & North Africa']\n",
    "\n",
    "sa = pd.read_csv('sa.csv')\n",
    "sa = sa[sa['Country Name'] != 'South Asia']\n",
    "\n",
    "ssa = pd.read_csv('ssa.csv')\n",
    "ssa = ssa[ssa['Country Name'] != 'Sub-Saharan Africa']\n",
    "\n",
    "list = [eap, eca, na, lac, mena, sa, ssa]\n"
   ]
  },
  {
   "cell_type": "code",
   "execution_count": 7,
   "metadata": {},
   "outputs": [
    {
     "name": "stdout",
     "output_type": "stream",
     "text": [
      "in eap region, the top interesting indicators are:\n",
      "Sex ratio at birth (male births per  births)\n",
      "School enrollment, primary and secondary (gross), gender parity index (GPI)\n",
      "School enrollment, primary (gross), gender parity index (GPI)\n",
      "School enrollment, secondary (gross), gender parity index (GPI)\n",
      "School enrollment, tertiary (gross), gender parity index (GPI)\n",
      "Population,  (% of total)\n",
      "Fertility rate, total (births per woman)\n",
      "Government expenditure on education, total (% of GDP)\n",
      "Primary education, pupils (% )\n",
      "Secondary education, pupils (% )\n",
      " \n",
      "in eca region, the top interesting indicators are:\n",
      "Sex ratio at birth (male births per  births)\n",
      "School enrollment, primary (gross), gender parity index (GPI)\n",
      "School enrollment, primary and secondary (gross), gender parity index (GPI)\n",
      "School enrollment, secondary (gross), gender parity index (GPI)\n",
      "School enrollment, tertiary (gross), gender parity index (GPI)\n",
      "Fertility rate, total (births per woman)\n",
      "Population,  (% of total)\n",
      "People practicing open defecation (% of population)\n",
      "People practicing open defecation, urban (% of urban population)\n",
      "Primary education, pupils (% )\n",
      " \n",
      "in na region, the top interesting indicators are:\n",
      "Contraceptive prevalence, any methods (% of women ages 15-49)\n",
      "Contraceptive prevalence, modern methods (% of women ages 15-49)\n",
      "Government expenditure per student, primary (% of GDP per capita)\n",
      "People practicing open defecation (% of population)\n",
      "People practicing open defecation, rural (% of rural population)\n",
      "People practicing open defecation, urban (% of urban population)\n",
      "Primary education, teachers (% )\n",
      "School enrollment, tertiary (gross), gender parity index (GPI)\n",
      "Secondary education, teachers (% )\n",
      "Tertiary education, academic staff (% )\n",
      " \n",
      "in lac region, the top interesting indicators are:\n",
      "Sex ratio at birth (male births per  births)\n",
      "School enrollment, primary and secondary (gross), gender parity index (GPI)\n",
      "School enrollment, primary (gross), gender parity index (GPI)\n",
      "School enrollment, secondary (gross), gender parity index (GPI)\n",
      "Population,  (% of total)\n",
      "School enrollment, tertiary (gross), gender parity index (GPI)\n",
      "Primary education, pupils (% )\n",
      "Fertility rate, total (births per woman)\n",
      "Secondary education, pupils (% )\n",
      "Death rate, crude (per 1,000 people)\n",
      " \n",
      "in mena region, the top interesting indicators are:\n",
      "Sex ratio at birth (male births per  births)\n",
      "School enrollment, primary (gross), gender parity index (GPI)\n",
      "School enrollment, primary and secondary (gross), gender parity index (GPI)\n",
      "School enrollment, secondary (gross), gender parity index (GPI)\n",
      "School enrollment, tertiary (gross), gender parity index (GPI)\n",
      "Fertility rate, total (births per woman)\n",
      "Population ages 65 and above (% of total)\n",
      "Health expenditure, public (% of GDP)\n",
      "People practicing open defecation, urban (% of urban population)\n",
      "Primary education, pupils (% )\n",
      " \n",
      "in sa region, the top interesting indicators are:\n",
      "Sex ratio at birth (male births per  births)\n",
      "School enrollment, secondary (gross), gender parity index (GPI)\n",
      "School enrollment, primary and secondary (gross), gender parity index (GPI)\n",
      "School enrollment, primary (gross), gender parity index (GPI)\n",
      "School enrollment, tertiary (gross), gender parity index (GPI)\n",
      "Fertility rate, total (births per woman)\n",
      "Start-up procedures to register a business,  (number)\n",
      "Government expenditure on education, total (% of GDP)\n",
      "Population ages 65 and above (% of total)\n",
      "Death rate, crude (per 1,000 people)\n",
      " \n",
      "in ssa region, the top interesting indicators are:\n",
      "Ratio of female to male youth unemployment rate (%) (national estimate)\n",
      "Sex ratio at birth (male births per  births)\n",
      "School enrollment, tertiary (gross), gender parity index (GPI)\n",
      "School enrollment, primary and secondary (gross), gender parity index (GPI)\n",
      "School enrollment, secondary (gross), gender parity index (GPI)\n",
      "School enrollment, primary (gross), gender parity index (GPI)\n",
      "Population ages 65 and above (% of total)\n",
      "Fertility rate, total (births per woman)\n",
      "Government expenditure on education, total (% of GDP)\n",
      "Expected years of schooling, \n",
      " \n"
     ]
    }
   ],
   "source": [
    "for df in list:\n",
    "    name =[x for x in globals() if globals()[x] is df][0]    \n",
    "#     df.dropna(how = 'any', inplace = True)\n",
    "    df['variance'] = df[['2000', '2001', '2002', '2003', '2004', '2005', '2006', '2007', \n",
    "                         '2008', '2009', '2010', '2011', '2012', '2013', '2014', '2015', '2016', '2017']].var(axis = 1)\n",
    "    interesting = {}\n",
    "    for group, frame in df.groupby(by = 'Indicator Name'):\n",
    "        interesting[group] = frame['variance'].max() - frame['variance'].min()\n",
    "    sorted_x = sorted(interesting.items(), key=operator.itemgetter(1))\n",
    "    top = sorted_x[:10]\n",
    "    print(\"in %s region, the top interesting indicators are:\" % name)\n",
    "    for item in top:\n",
    "        print(item[0])\n",
    "    print(' ')\n"
   ]
  }
 ],
 "metadata": {
  "kernelspec": {
   "display_name": "Python 3",
   "language": "python",
   "name": "python3"
  },
  "language_info": {
   "codemirror_mode": {
    "name": "ipython",
    "version": 3
   },
   "file_extension": ".py",
   "mimetype": "text/x-python",
   "name": "python",
   "nbconvert_exporter": "python",
   "pygments_lexer": "ipython3",
   "version": "3.6.3"
  }
 },
 "nbformat": 4,
 "nbformat_minor": 2
}
