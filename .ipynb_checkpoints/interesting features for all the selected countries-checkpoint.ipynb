{
 "cells": [
  {
   "cell_type": "code",
   "execution_count": 15,
   "metadata": {},
   "outputs": [],
   "source": [
    "import numpy as np\n",
    "import pandas as pd\n",
    "import operator"
   ]
  },
  {
   "cell_type": "code",
   "execution_count": 16,
   "metadata": {},
   "outputs": [
    {
     "name": "stdout",
     "output_type": "stream",
     "text": [
      "(1445, 23)\n",
      "(11829, 23)\n"
     ]
    }
   ],
   "source": [
    "eap = pd.read_csv('eap.csv')\n",
    "\n",
    "eca = pd.read_csv('eca.csv')\n",
    "\n",
    "na = pd.read_csv('na.csv')\n",
    "\n",
    "lac = pd.read_csv('lac.csv')\n",
    "\n",
    "mena = pd.read_csv('mena.csv')\n",
    "\n",
    "sa = pd.read_csv('sa.csv')\n",
    "\n",
    "ssa = pd.read_csv('ssa.csv')\n",
    "\n",
    "\n",
    "df = eap.append(eca).append(na).append(lac).append(mena).append(sa).append(ssa)\n",
    "print(np.shape(eap))\n",
    "print(np.shape(df))"
   ]
  },
  {
   "cell_type": "code",
   "execution_count": 19,
   "metadata": {},
   "outputs": [
    {
     "name": "stdout",
     "output_type": "stream",
     "text": [
      "in the whole world, the top interesting indicators are:\n",
      "Time required to start a business,  (days)\n",
      "Inflation, consumer prices (annual %)\n",
      "Cost of business start-up procedures,  (% of GNI per capita)\n",
      "Maternal mortality ratio (modeled estimate, per 100,000 live births)\n",
      "Health expenditure per capita, PPP (constant 2011 international $)\n",
      "GNI per capita, PPP (current international $)\n",
      "GNI per capita, Atlas method (current US$)\n",
      "GDP per capita (Current US$)\n",
      "Number of maternal deaths\n",
      "Children out of school, primary, \n",
      "Population ages 65 and above, \n",
      "Population ages 0-14, \n",
      "Labor force, \n",
      "Labor force, total\n",
      "Population ages 15-64, \n",
      "Population, \n",
      "Population ages 15-64, total\n",
      "Population, total\n",
      "GNI, Atlas method (current US$)\n",
      "GDP (current US$)\n",
      " \n"
     ]
    }
   ],
   "source": [
    "df['variance'] = df[['2000', '2001', '2002', '2003', '2004', '2005', '2006', '2007', \n",
    "                         '2008', '2009', '2010', '2011', '2012', '2013', '2014', '2015', '2016', '2017']].var(axis = 1)\n",
    "interesting = {}\n",
    "for group, frame in df.groupby(by = 'Indicator Name'):\n",
    "    interesting[group] = frame['variance'].max() - frame['variance'].min()\n",
    "sorted_x = sorted(interesting.items(), key=operator.itemgetter(1))\n",
    "top = sorted_x[-20:]\n",
    "print(\"in the whole world, the top interesting indicators are:\" )\n",
    "for item in top:\n",
    "    print(item[0])\n",
    "print(' ')"
   ]
  },
  {
   "cell_type": "code",
   "execution_count": null,
   "metadata": {},
   "outputs": [],
   "source": []
  }
 ],
 "metadata": {
  "kernelspec": {
   "display_name": "Python 3",
   "language": "python",
   "name": "python3"
  },
  "language_info": {
   "codemirror_mode": {
    "name": "ipython",
    "version": 3
   },
   "file_extension": ".py",
   "mimetype": "text/x-python",
   "name": "python",
   "nbconvert_exporter": "python",
   "pygments_lexer": "ipython3",
   "version": "3.6.3"
  }
 },
 "nbformat": 4,
 "nbformat_minor": 2
}
