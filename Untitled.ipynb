{
 "cells": [
  {
   "cell_type": "code",
   "execution_count": 95,
   "metadata": {},
   "outputs": [],
   "source": [
    "import numpy as np\n",
    "import pandas as pd\n",
    "import operator"
   ]
  },
  {
   "cell_type": "code",
   "execution_count": 96,
   "metadata": {},
   "outputs": [],
   "source": [
    "eap = pd.read_csv('eap.csv')\n",
    "eap = eap[eap['Country Name'] != 'East Asia & Pacific']\n",
    "\n",
    "eca = pd.read_csv('eca.csv')\n",
    "eca = eca[eca['Country Name'] != 'Europe & Central Asia']\n",
    "\n",
    "na = pd.read_csv('na.csv')\n",
    "na = na[na['Country Name'] != 'North America']\n",
    "\n",
    "lac = pd.read_csv('lac.csv')\n",
    "lac = lac[lac['Country Name'] != 'Latin America & Caribbean']\n",
    "\n",
    "mena = pd.read_csv('mena.csv')\n",
    "mena = mena[mena['Country Name'] != 'Middle East & North Africa']\n",
    "\n",
    "sa = pd.read_csv('sa.csv')\n",
    "sa = sa[sa['Country Name'] != 'South Asia']\n",
    "\n",
    "ssa = pd.read_csv('ssa.csv')\n",
    "ssa = ssa[ssa['Country Name'] != 'Sub-Saharan Africa']\n",
    "\n",
    "list = [eap, eca, na, lac, mena, sa, ssa]\n"
   ]
  },
  {
   "cell_type": "code",
   "execution_count": 101,
   "metadata": {},
   "outputs": [
    {
     "name": "stdout",
     "output_type": "stream",
     "text": [
      "in eap region, the top interesting indicators are:\n",
      "[('Labor force, ', 18703833982853.953), ('Population ages 65 and above, ', 60929931774458.852), ('Population ages 0-14, ', 160633713463965.16), ('Population, ', 274915397294180.0), ('Labor force, total', 287553239487931.56), ('Population ages 15-64, ', 533909016804782.94), ('Population, total', 1271623139496397.0), ('Population ages 15-64, total', 1986837439237429.5), ('GNI, Atlas method (current US$)', 1.3223364772696777e+25), ('GDP (current US$)', 1.3780746968089063e+25)]\n",
      " \n",
      "in eca region, the top interesting indicators are:\n",
      "[('Population ages 65 and above, ', 297993884530.72797), ('Population ages 0-14, ', 782841309501.44849), ('Labor force, ', 2305921017297.2319), ('Population ages 15-64, ', 4106986028295.2793), ('Population, ', 6561980855652.8086), ('Labor force, total', 11486954183762.16), ('Population ages 15-64, total', 16370421224529.426), ('Population, total', 25159022972057.492), ('GDP (current US$)', 4.790367981275927e+23), ('GNI, Atlas method (current US$)', 4.9738613980162395e+23)]\n",
      " \n",
      "in na region, the top interesting indicators are:\n",
      "[('Population ages 65 and above, ', 4620219430647.4629), ('Labor force, ', 6019785661743.2637), ('Population ages 15-64, ', 19340104769352.473), ('Labor force, total', 25365741591748.391), ('Population, ', 40444595122330.156), ('Population ages 15-64, total', 75444780514756.859), ('Population, total', 168057194790463.97), ('GDP (current US$)', 6.6172876725789883e+24), ('GNI, Atlas method (current US$)', 6.7226607903545713e+24), ('Pregnant women receiving prenatal care (%)', nan)]\n",
      " \n",
      "in lac region, the top interesting indicators are:\n",
      "[('Population ages 0-14, ', 1272943947089.7573), ('Population ages 65 and above, ', 2087724803183.2795), ('Labor force, ', 13676459865217.756), ('Population ages 15-64, ', 24887467914944.465), ('Population, ', 28104407497563.426), ('Labor force, total', 54938460603273.656), ('Population ages 15-64, total', 97540145009331.938), ('Population, total', 102885505597592.64), ('GNI, Atlas method (current US$)', 5.7413667676503783e+23), ('GDP (current US$)', 5.9250053080801575e+23)]\n",
      " \n",
      "in mena region, the top interesting indicators are:\n",
      "[('Population ages 65 and above, ', 58800075141.139702), ('Labor force, ', 961374570218.20923), ('Population ages 0-14, ', 1071145124538.0221), ('Population ages 15-64, ', 8491987689809.501), ('Labor force, total', 13254772609801.295), ('Population, ', 15365766341678.375), ('Population ages 15-64, total', 32120603505871.688), ('Population, total', 64764031690951.25), ('GDP (current US$)', 4.4953341529969006e+22), ('GNI, Atlas method (current US$)', 5.0251697489186386e+22)]\n",
      " \n",
      "in sa region, the top interesting indicators are:\n",
      "[('Population ages 65 and above, ', 24147316298460.645), ('Children out of school, primary, ', 28304295007368.91), ('Labor force, ', 46638594578282.617), ('Labor force, total', 950480143422268.38), ('Population ages 15-64, ', 1477835363387315.5), ('Population, ', 1700851737072768.0), ('Population ages 15-64, total', 5463052667765833.0), ('Population, total', 7384079840705568.0), ('GNI, Atlas method (current US$)', 3.9464648563665688e+23), ('GDP (current US$)', 3.9611472873557163e+23)]\n",
      " \n",
      "in ssa region, the top interesting indicators are:\n",
      "[('Children out of school, primary, ', 278063314145.9873), ('Labor force, ', 11425363628324.578), ('Population ages 0-14, ', 19742005643543.184), ('Population ages 15-64, ', 28289649337924.43), ('Labor force, total', 43212117395764.508), ('Population, ', 96906856101881.656), ('Population ages 15-64, total', 109331081450914.56), ('Population, total', 405980563393547.69), ('GNI, Atlas method (current US$)', 3.2410154229122923e+22), ('GDP (current US$)', 3.4904704434867255e+22)]\n",
      " \n"
     ]
    }
   ],
   "source": [
    "for df in list:\n",
    "    name =[x for x in globals() if globals()[x] is df][0]    \n",
    "#     df.dropna(how = 'any', inplace = True)\n",
    "    df['variance'] = df[['2000', '2001', '2002', '2003', '2004', '2005', '2006', '2007', \n",
    "                         '2008', '2009', '2010', '2011', '2012', '2013', '2014', '2015', '2016', '2017']].var(axis = 1)\n",
    "    interesting = {}\n",
    "    for group, frame in df.groupby(by = 'Indicator Name'):\n",
    "        interesting[group] = frame['variance'].max() - frame['variance'].min()\n",
    "    sorted_x = sorted(interesting.items(), key=operator.itemgetter(1))\n",
    "    top7 = sorted_x[-10:]\n",
    "    print(\"in %s region, the top interesting indicators are:\" % name)\n",
    "    print(top7)\n",
    "    print(' ')\n"
   ]
  },
  {
   "cell_type": "code",
   "execution_count": 87,
   "metadata": {},
   "outputs": [
    {
     "name": "stdout",
     "output_type": "stream",
     "text": [
      "<class 'list'>\n"
     ]
    }
   ],
   "source": [
    "\n",
    "# # print(interesting)\n",
    "# # for key, value in sorted(interesting.iteritems(), key=lambda (k,v): (v,k)):\n",
    "# #     print \"%s: %s\" % (key, value)\n",
    "\n",
    "\n"
   ]
  },
  {
   "cell_type": "code",
   "execution_count": null,
   "metadata": {},
   "outputs": [],
   "source": []
  }
 ],
 "metadata": {
  "kernelspec": {
   "display_name": "Python 3",
   "language": "python",
   "name": "python3"
  },
  "language_info": {
   "codemirror_mode": {
    "name": "ipython",
    "version": 3
   },
   "file_extension": ".py",
   "mimetype": "text/x-python",
   "name": "python",
   "nbconvert_exporter": "python",
   "pygments_lexer": "ipython3",
   "version": "3.6.3"
  }
 },
 "nbformat": 4,
 "nbformat_minor": 2
}
