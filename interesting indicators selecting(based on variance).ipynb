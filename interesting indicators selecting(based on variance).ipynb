{
 "cells": [
  {
   "cell_type": "code",
   "execution_count": 95,
   "metadata": {},
   "outputs": [],
   "source": [
    "import numpy as np\n",
    "import pandas as pd\n",
    "import operator"
   ]
  },
  {
   "cell_type": "code",
   "execution_count": 96,
   "metadata": {},
   "outputs": [],
   "source": [
    "eap = pd.read_csv('eap.csv')\n",
    "eap = eap[eap['Country Name'] != 'East Asia & Pacific']\n",
    "\n",
    "eca = pd.read_csv('eca.csv')\n",
    "eca = eca[eca['Country Name'] != 'Europe & Central Asia']\n",
    "\n",
    "na = pd.read_csv('na.csv')\n",
    "na = na[na['Country Name'] != 'North America']\n",
    "\n",
    "lac = pd.read_csv('lac.csv')\n",
    "lac = lac[lac['Country Name'] != 'Latin America & Caribbean']\n",
    "\n",
    "mena = pd.read_csv('mena.csv')\n",
    "mena = mena[mena['Country Name'] != 'Middle East & North Africa']\n",
    "\n",
    "sa = pd.read_csv('sa.csv')\n",
    "sa = sa[sa['Country Name'] != 'South Asia']\n",
    "\n",
    "ssa = pd.read_csv('ssa.csv')\n",
    "ssa = ssa[ssa['Country Name'] != 'Sub-Saharan Africa']\n",
    "\n",
    "list = [eap, eca, na, lac, mena, sa, ssa]\n"
   ]
  },
  {
   "cell_type": "code",
   "execution_count": 104,
   "metadata": {},
   "outputs": [
    {
     "name": "stdout",
     "output_type": "stream",
     "text": [
      "in eap region, the top interesting indicators are:\n",
      "Labor force, \n",
      "Population ages 65 and above, \n",
      "Population ages 0-14, \n",
      "Population, \n",
      "Labor force, total\n",
      "Population ages 15-64, \n",
      "Population, total\n",
      "Population ages 15-64, total\n",
      "GNI, Atlas method (current US$)\n",
      "GDP (current US$)\n",
      " \n",
      "in eca region, the top interesting indicators are:\n",
      "Population ages 65 and above, \n",
      "Population ages 0-14, \n",
      "Labor force, \n",
      "Population ages 15-64, \n",
      "Population, \n",
      "Labor force, total\n",
      "Population ages 15-64, total\n",
      "Population, total\n",
      "GDP (current US$)\n",
      "GNI, Atlas method (current US$)\n",
      " \n",
      "in na region, the top interesting indicators are:\n",
      "Population ages 65 and above, \n",
      "Labor force, \n",
      "Population ages 15-64, \n",
      "Labor force, total\n",
      "Population, \n",
      "Population ages 15-64, total\n",
      "Population, total\n",
      "GDP (current US$)\n",
      "GNI, Atlas method (current US$)\n",
      "Pregnant women receiving prenatal care (%)\n",
      " \n",
      "in lac region, the top interesting indicators are:\n",
      "Population ages 0-14, \n",
      "Population ages 65 and above, \n",
      "Labor force, \n",
      "Population ages 15-64, \n",
      "Population, \n",
      "Labor force, total\n",
      "Population ages 15-64, total\n",
      "Population, total\n",
      "GNI, Atlas method (current US$)\n",
      "GDP (current US$)\n",
      " \n",
      "in mena region, the top interesting indicators are:\n",
      "Population ages 65 and above, \n",
      "Labor force, \n",
      "Population ages 0-14, \n",
      "Population ages 15-64, \n",
      "Labor force, total\n",
      "Population, \n",
      "Population ages 15-64, total\n",
      "Population, total\n",
      "GDP (current US$)\n",
      "GNI, Atlas method (current US$)\n",
      " \n",
      "in sa region, the top interesting indicators are:\n",
      "Population ages 65 and above, \n",
      "Children out of school, primary, \n",
      "Labor force, \n",
      "Labor force, total\n",
      "Population ages 15-64, \n",
      "Population, \n",
      "Population ages 15-64, total\n",
      "Population, total\n",
      "GNI, Atlas method (current US$)\n",
      "GDP (current US$)\n",
      " \n",
      "in ssa region, the top interesting indicators are:\n",
      "Children out of school, primary, \n",
      "Labor force, \n",
      "Population ages 0-14, \n",
      "Population ages 15-64, \n",
      "Labor force, total\n",
      "Population, \n",
      "Population ages 15-64, total\n",
      "Population, total\n",
      "GNI, Atlas method (current US$)\n",
      "GDP (current US$)\n",
      " \n"
     ]
    }
   ],
   "source": [
    "for df in list:\n",
    "    name =[x for x in globals() if globals()[x] is df][0]    \n",
    "#     df.dropna(how = 'any', inplace = True)\n",
    "    df['variance'] = df[['2000', '2001', '2002', '2003', '2004', '2005', '2006', '2007', \n",
    "                         '2008', '2009', '2010', '2011', '2012', '2013', '2014', '2015', '2016', '2017']].var(axis = 1)\n",
    "    interesting = {}\n",
    "    for group, frame in df.groupby(by = 'Indicator Name'):\n",
    "        interesting[group] = frame['variance'].max() - frame['variance'].min()\n",
    "    sorted_x = sorted(interesting.items(), key=operator.itemgetter(1))\n",
    "    top = sorted_x[-10:]\n",
    "    print(\"in %s region, the top interesting indicators are:\" % name)\n",
    "    for item in top:\n",
    "        print(item[0])\n",
    "    print(' ')\n"
   ]
  },
  {
   "cell_type": "code",
   "execution_count": 87,
   "metadata": {},
   "outputs": [
    {
     "name": "stdout",
     "output_type": "stream",
     "text": [
      "<class 'list'>\n"
     ]
    }
   ],
   "source": [
    "\n",
    "# # print(interesting)\n",
    "# # for key, value in sorted(interesting.iteritems(), key=lambda (k,v): (v,k)):\n",
    "# #     print \"%s: %s\" % (key, value)\n",
    "\n",
    "\n"
   ]
  },
  {
   "cell_type": "code",
   "execution_count": null,
   "metadata": {},
   "outputs": [],
   "source": []
  }
 ],
 "metadata": {
  "kernelspec": {
   "display_name": "Python 3",
   "language": "python",
   "name": "python3"
  },
  "language_info": {
   "codemirror_mode": {
    "name": "ipython",
    "version": 3
   },
   "file_extension": ".py",
   "mimetype": "text/x-python",
   "name": "python",
   "nbconvert_exporter": "python",
   "pygments_lexer": "ipython3",
   "version": "3.6.3"
  }
 },
 "nbformat": 4,
 "nbformat_minor": 2
}
